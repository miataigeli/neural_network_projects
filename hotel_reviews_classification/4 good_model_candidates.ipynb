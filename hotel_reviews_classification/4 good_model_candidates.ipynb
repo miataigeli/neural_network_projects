{
 "cells": [
  {
   "cell_type": "markdown",
   "metadata": {},
   "source": [
    "## 1"
   ]
  },
  {
   "cell_type": "raw",
   "metadata": {},
   "source": [
    "new config, iteration 1\n",
    "{'layers': 5, 'lr': 0.006790904166349468, 'nonlin': ReLU(), 'dropout': 0.2174579613105458, 'hidden_nodes': 131, 'max_epochs': 15, 'momentum': 0.99, 'optimizer': SGD (\n",
    "Parameter Group 0\n",
    "    dampening: 0\n",
    "    lr: 0.006790904166349468\n",
    "    momentum: 0.99\n",
    "    nesterov: False\n",
    "    weight_decay: 0\n",
    ")}\n",
    "Epoch [1/15], Loss: 0.0417, Training Accuracy: 0.3806, Validation Accuracy: 0.3826\n",
    "Epoch [2/15], Loss: 0.0342, Training Accuracy: 0.5345, Validation Accuracy: 0.5110\n",
    "Epoch [3/15], Loss: 0.0293, Training Accuracy: 0.3881, Validation Accuracy: 0.3870\n",
    "Epoch [4/15], Loss: 0.0306, Training Accuracy: 0.5013, Validation Accuracy: 0.5085\n",
    "Epoch [5/15], Loss: 0.0301, Training Accuracy: 0.5446, Validation Accuracy: 0.5256\n",
    "Epoch [6/15], Loss: 0.0283, Training Accuracy: 0.5966, Validation Accuracy: 0.5754\n",
    "Epoch [7/15], Loss: 0.0272, Training Accuracy: 0.6063, Validation Accuracy: 0.5725\n",
    "Epoch [8/15], Loss: 0.0275, Training Accuracy: 0.6145, Validation Accuracy: 0.5710\n",
    "Epoch [9/15], Loss: 0.0263, Training Accuracy: 0.5768, Validation Accuracy: 0.5295\n",
    "Epoch [10/15], Loss: 0.0281, Training Accuracy: 0.6291, Validation Accuracy: 0.6110\n",
    "Epoch [11/15], Loss: 0.0268, Training Accuracy: 0.6077, Validation Accuracy: 0.5822\n",
    "Epoch [12/15], Loss: 0.0267, Training Accuracy: 0.6537, Validation Accuracy: 0.5988\n",
    "Epoch [13/15], Loss: 0.0256, Training Accuracy: 0.6392, Validation Accuracy: 0.6057\n",
    "Epoch [14/15], Loss: 0.0255, Training Accuracy: 0.6380, Validation Accuracy: 0.5847\n",
    "Epoch [15/15], Loss: 0.0253, Training Accuracy: 0.6695, Validation Accuracy: 0.6218\n",
    "Best validation score for iterations #1: 0.6217667154709614"
   ]
  },
  {
   "cell_type": "code",
   "execution_count": null,
   "metadata": {},
   "outputs": [],
   "source": [
    "Epoch [14/15], Loss: 0.0236, Training Accuracy: 0.6701, Validation Accuracy: 0.6306"
   ]
  },
  {
   "cell_type": "markdown",
   "metadata": {},
   "source": [
    "## 2"
   ]
  },
  {
   "cell_type": "raw",
   "metadata": {},
   "source": [
    "new config, iteration 4\n",
    "{'layers': 2, 'lr': 0.00413267391256542, 'nonlin': ReLU(), 'dropout': 0.023313434837778705, 'hidden_nodes': 207, 'max_epochs': 9, 'momentum': 0.99, 'optimizer': SGD (\n",
    "Parameter Group 0\n",
    "    dampening: 0\n",
    "    lr: 0.00413267391256542\n",
    "    momentum: 0.99\n",
    "    nesterov: False\n",
    "    weight_decay: 0\n",
    ")}\n",
    "Epoch [1/9], Loss: 0.0416, Training Accuracy: 0.3015, Validation Accuracy: 0.2884\n",
    "Epoch [2/9], Loss: 0.0304, Training Accuracy: 0.6179, Validation Accuracy: 0.5881\n",
    "Epoch [3/9], Loss: 0.0253, Training Accuracy: 0.6429, Validation Accuracy: 0.5944\n",
    "Epoch [4/9], Loss: 0.0245, Training Accuracy: 0.6448, Validation Accuracy: 0.5959\n",
    "Epoch [5/9], Loss: 0.0230, Training Accuracy: 0.6845, Validation Accuracy: 0.6447\n",
    "Epoch [6/9], Loss: 0.0219, Training Accuracy: 0.6703, Validation Accuracy: 0.6164\n",
    "Epoch [7/9], Loss: 0.0222, Training Accuracy: 0.6699, Validation Accuracy: 0.6198\n",
    "Epoch [8/9], Loss: 0.0219, Training Accuracy: 0.6863, Validation Accuracy: 0.6232\n",
    "Epoch [9/9], Loss: 0.0212, Training Accuracy: 0.7287, Validation Accuracy: 0.6428\n",
    "Best validation score for iterations #4: 0.6447047340165935"
   ]
  },
  {
   "cell_type": "code",
   "execution_count": null,
   "metadata": {},
   "outputs": [],
   "source": [
    "Epoch [8/9], Loss: 0.0234, Training Accuracy: 0.6690, Validation Accuracy: 0.6432"
   ]
  },
  {
   "cell_type": "markdown",
   "metadata": {},
   "source": [
    "## 3 require more epoch"
   ]
  },
  {
   "cell_type": "raw",
   "metadata": {},
   "source": [
    "new config, iteration 1\n",
    "{'layers': 3, 'lr': 0.02288819098690055, 'nonlin': ReLU(), 'dropout': 0.014401808140400867, 'hidden_nodes': 209, 'max_epochs': 6, 'momentum': 0.9, 'optimizer': Adam (\n",
    "Parameter Group 0\n",
    "    amsgrad: False\n",
    "    betas: (0.9, 0.999)\n",
    "    eps: 1e-08\n",
    "    lr: 0.02288819098690055\n",
    "    weight_decay: 0\n",
    ")}\n",
    "Epoch [1/6], Loss: 0.0409, Training Accuracy: 0.3208, Validation Accuracy: 0.3114\n",
    "Epoch [2/6], Loss: 0.0394, Training Accuracy: 0.3291, Validation Accuracy: 0.3231\n",
    "Epoch [3/6], Loss: 0.0389, Training Accuracy: 0.3605, Validation Accuracy: 0.3514\n",
    "Epoch [4/6], Loss: 0.0396, Training Accuracy: 0.3703, Validation Accuracy: 0.3548\n",
    "Epoch [5/6], Loss: 0.0384, Training Accuracy: 0.4190, Validation Accuracy: 0.3899\n",
    "Epoch [6/6], Loss: 0.0378, Training Accuracy: 0.4572, Validation Accuracy: 0.4417\n",
    "Best validation score for iterations #1: 0.44167886774036114"
   ]
  },
  {
   "cell_type": "raw",
   "metadata": {},
   "source": [
    ":("
   ]
  },
  {
   "cell_type": "markdown",
   "metadata": {},
   "source": [
    "## 4 require more epoch"
   ]
  },
  {
   "cell_type": "raw",
   "metadata": {},
   "source": [
    "new config, iteration 1\n",
    "{'layers': 2, 'lr': 0.01019321898159859, 'nonlin': ReLU(), 'dropout': 0.17952111086836126, 'hidden_nodes': 277, 'max_epochs': 5, 'momentum': 0.99, 'optimizer': SGD (\n",
    "Parameter Group 0\n",
    "    dampening: 0\n",
    "    lr: 0.01019321898159859\n",
    "    momentum: 0.99\n",
    "    nesterov: False\n",
    "    weight_decay: 0\n",
    ")}\n",
    "Epoch [1/5], Loss: 0.0408, Training Accuracy: 0.3686, Validation Accuracy: 0.3948\n",
    "Epoch [2/5], Loss: 0.0332, Training Accuracy: 0.4016, Validation Accuracy: 0.4061\n",
    "Epoch [3/5], Loss: 0.0297, Training Accuracy: 0.6016, Validation Accuracy: 0.5666\n",
    "Epoch [4/5], Loss: 0.0282, Training Accuracy: 0.6237, Validation Accuracy: 0.5852\n",
    "Epoch [5/5], Loss: 0.0277, Training Accuracy: 0.6343, Validation Accuracy: 0.6008\n",
    "Best validation score for iterations #1: 0.6007808687164471"
   ]
  },
  {
   "cell_type": "raw",
   "metadata": {},
   "source": [
    "Epoch [15/20], Loss: 0.0217, Training Accuracy: 0.7206, Validation Accuracy: 0.6423"
   ]
  }
 ],
 "metadata": {
  "kernelspec": {
   "display_name": "Python 3",
   "language": "python",
   "name": "python3"
  },
  "language_info": {
   "codemirror_mode": {
    "name": "ipython",
    "version": 3
   },
   "file_extension": ".py",
   "mimetype": "text/x-python",
   "name": "python",
   "nbconvert_exporter": "python",
   "pygments_lexer": "ipython3",
   "version": "3.8.5"
  }
 },
 "nbformat": 4,
 "nbformat_minor": 4
}
