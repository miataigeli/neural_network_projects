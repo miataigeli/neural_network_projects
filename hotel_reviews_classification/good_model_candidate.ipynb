{
 "cells": [
  {
   "cell_type": "markdown",
   "metadata": {},
   "source": [
    "## 1"
   ]
  },
  {
   "cell_type": "raw",
   "metadata": {},
   "source": [
    "new config, iteration 1\n",
    "{'layers': 5, 'lr': 0.006790904166349468, 'nonlin': ReLU(), 'dropout': 0.2174579613105458, 'hidden_nodes': 131, 'max_epochs': 15, 'momentum': 0.99, 'optimizer': SGD (\n",
    "Parameter Group 0\n",
    "    dampening: 0\n",
    "    lr: 0.006790904166349468\n",
    "    momentum: 0.99\n",
    "    nesterov: False\n",
    "    weight_decay: 0\n",
    ")}\n",
    "Epoch [1/15], Loss: 0.0417, Training Accuracy: 0.3806, Validation Accuracy: 0.3826\n",
    "Epoch [2/15], Loss: 0.0342, Training Accuracy: 0.5345, Validation Accuracy: 0.5110\n",
    "Epoch [3/15], Loss: 0.0293, Training Accuracy: 0.3881, Validation Accuracy: 0.3870\n",
    "Epoch [4/15], Loss: 0.0306, Training Accuracy: 0.5013, Validation Accuracy: 0.5085\n",
    "Epoch [5/15], Loss: 0.0301, Training Accuracy: 0.5446, Validation Accuracy: 0.5256\n",
    "Epoch [6/15], Loss: 0.0283, Training Accuracy: 0.5966, Validation Accuracy: 0.5754\n",
    "Epoch [7/15], Loss: 0.0272, Training Accuracy: 0.6063, Validation Accuracy: 0.5725\n",
    "Epoch [8/15], Loss: 0.0275, Training Accuracy: 0.6145, Validation Accuracy: 0.5710\n",
    "Epoch [9/15], Loss: 0.0263, Training Accuracy: 0.5768, Validation Accuracy: 0.5295\n",
    "Epoch [10/15], Loss: 0.0281, Training Accuracy: 0.6291, Validation Accuracy: 0.6110\n",
    "Epoch [11/15], Loss: 0.0268, Training Accuracy: 0.6077, Validation Accuracy: 0.5822\n",
    "Epoch [12/15], Loss: 0.0267, Training Accuracy: 0.6537, Validation Accuracy: 0.5988\n",
    "Epoch [13/15], Loss: 0.0256, Training Accuracy: 0.6392, Validation Accuracy: 0.6057\n",
    "Epoch [14/15], Loss: 0.0255, Training Accuracy: 0.6380, Validation Accuracy: 0.5847\n",
    "Epoch [15/15], Loss: 0.0253, Training Accuracy: 0.6695, Validation Accuracy: 0.6218\n",
    "Best validation score for iterations #1: 0.6217667154709614"
   ]
  },
  {
   "cell_type": "code",
   "execution_count": null,
   "metadata": {},
   "outputs": [],
   "source": []
  }
 ],
 "metadata": {
  "kernelspec": {
   "display_name": "Python 3",
   "language": "python",
   "name": "python3"
  },
  "language_info": {
   "codemirror_mode": {
    "name": "ipython",
    "version": 3
   },
   "file_extension": ".py",
   "mimetype": "text/x-python",
   "name": "python",
   "nbconvert_exporter": "python",
   "pygments_lexer": "ipython3",
   "version": "3.8.5"
  }
 },
 "nbformat": 4,
 "nbformat_minor": 4
}
